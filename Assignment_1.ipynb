{
 "cells": [
  {
   "cell_type": "markdown",
   "id": "14994063",
   "metadata": {},
   "source": [
    "1. In the below elements which of them are values or an expression? eg:- values can be integer or string and expressions will be mathematical operators.\n",
    "\n",
    "* \n",
    "'hello'\n",
    "-87.8\n",
    "- \n",
    "/ \n",
    "\n",
    "+\n",
    "\n",
    "6 \n",
    "\n",
    "ans:\n",
    "\n",
    "i)values:6,'hello','-87.8'\n",
    "ii)expressions:*,-,/,+"
   ]
  },
  {
   "cell_type": "markdown",
   "id": "3ab7cb09",
   "metadata": {},
   "source": [
    "2. What is the difference between string and variable?\n",
    "\n",
    "ans: \n",
    "\n",
    "i)string:The values are enclosed with apostrophe (\" or ' or ''') is called string\n",
    "ii)variable:Variable which holds the data for future use and data stored in main memory and the variable reference to that value"
   ]
  },
  {
   "cell_type": "markdown",
   "id": "38108df1",
   "metadata": {},
   "source": [
    "3. Describe three different data types.\n",
    "\n",
    "ans: \n",
    "\n",
    "i)int:The integer values are called int and without any decimal point e.g:2,14,6\n",
    "ii)float: The decimal numbers are called float data type e.g:1.2,1.4\n",
    "iii)str:The values are enclosed with apostrophe (\" or ' or ''') is called string e.g:\"shashi\""
   ]
  },
  {
   "cell_type": "markdown",
   "id": "4ba96368",
   "metadata": {},
   "source": [
    "4. What is an expression made up of? What do all expressions do?\n",
    "\n",
    "ans:\n",
    "\n",
    "An expression made up of operands and operators,and expressions will perform operations"
   ]
  },
  {
   "cell_type": "markdown",
   "id": "0e949453",
   "metadata": {},
   "source": [
    "5. This assignment statements, like spam = 10. What is the difference between an expression and a statement?\n",
    "ans:\n",
    "\n",
    "This assignment statements is the statement ,like is the statement\n",
    "\n",
    "spam=10  is the expression\n"
   ]
  },
  {
   "cell_type": "markdown",
   "id": "f0731edb",
   "metadata": {},
   "source": [
    "6. After running the following code, what does the variable bacon contain?\n",
    "bacon = 22\n",
    "bacon + 1\n",
    "\n",
    "ans:\n",
    "\n",
    "23"
   ]
  },
  {
   "cell_type": "markdown",
   "id": "a51286e0",
   "metadata": {},
   "source": [
    "7. What should the values of the following two terms be?\n",
    "'spam' + 'spamspam'\n",
    "'spam' * 3\n",
    "\n",
    "ans:\n",
    "\n",
    "'spamspamspam'"
   ]
  },
  {
   "cell_type": "markdown",
   "id": "881b7a26",
   "metadata": {},
   "source": [
    "8. Why is eggs a valid variable name while 100 is invalid?\n",
    "\n",
    "ans:\n",
    "eggs is a string and\n",
    "100 is a integer\n",
    "variable name cannot begin with integer"
   ]
  },
  {
   "cell_type": "markdown",
   "id": "14504e7d",
   "metadata": {},
   "source": [
    "9. What three functions can be used to get the integer, floating-point number, or string version of a value?\n",
    "\n",
    "ans:\n",
    "\n",
    "To get the integer:int()\n",
    "To get the floating-point number:float()\n",
    "To get the string version:str()"
   ]
  },
  {
   "cell_type": "markdown",
   "id": "eced16cd",
   "metadata": {},
   "source": [
    "10. Why does this expression cause an error? How can you fix it?\n",
    "'I have eaten ' + 99 + ' burritos.'\n",
    "\n",
    "ans:\n",
    "\n",
    "Here 99 is an integer we cannot add int data type to str datatype\n",
    "so, when we keep 99 is enclosed in apostrophe it will give ouptput\n",
    "\n",
    "'I have eaten ' + '99' + ' burritos.'"
   ]
  },
  {
   "cell_type": "code",
   "execution_count": null,
   "id": "3e8a3a1c",
   "metadata": {},
   "outputs": [],
   "source": []
  },
  {
   "cell_type": "code",
   "execution_count": null,
   "id": "7b47d217",
   "metadata": {},
   "outputs": [],
   "source": []
  },
  {
   "cell_type": "code",
   "execution_count": null,
   "id": "3e95b1ac",
   "metadata": {},
   "outputs": [],
   "source": []
  },
  {
   "cell_type": "code",
   "execution_count": null,
   "id": "bf61ffa1",
   "metadata": {},
   "outputs": [],
   "source": []
  },
  {
   "cell_type": "code",
   "execution_count": null,
   "id": "de617b44",
   "metadata": {},
   "outputs": [],
   "source": []
  },
  {
   "cell_type": "code",
   "execution_count": null,
   "id": "e01464e5",
   "metadata": {},
   "outputs": [],
   "source": []
  }
 ],
 "metadata": {
  "kernelspec": {
   "display_name": "Python 3 (ipykernel)",
   "language": "python",
   "name": "python3"
  },
  "language_info": {
   "codemirror_mode": {
    "name": "ipython",
    "version": 3
   },
   "file_extension": ".py",
   "mimetype": "text/x-python",
   "name": "python",
   "nbconvert_exporter": "python",
   "pygments_lexer": "ipython3",
   "version": "3.9.12"
  }
 },
 "nbformat": 4,
 "nbformat_minor": 5
}
