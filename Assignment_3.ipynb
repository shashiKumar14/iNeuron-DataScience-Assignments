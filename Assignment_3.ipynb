{
 "cells": [
  {
   "cell_type": "code",
   "execution_count": null,
   "id": "f45f36dd",
   "metadata": {},
   "outputs": [],
   "source": [
    "#1. Why are functions advantageous to have in your programs?\n",
    "ans :\n",
    "\n",
    "Functions are advantageous because repeatedly we can use many number of times just by calling "
   ]
  },
  {
   "cell_type": "code",
   "execution_count": null,
   "id": "97fbd412",
   "metadata": {},
   "outputs": [],
   "source": [
    "#2. When does the code in a function run: when it's specified or when it's called?\n",
    "ans:\n",
    "    \n",
    "suppose we want to use code many times at that time we write a code in function .we call that function when we required"
   ]
  },
  {
   "cell_type": "code",
   "execution_count": null,
   "id": "776edf05",
   "metadata": {},
   "outputs": [],
   "source": [
    "#3. What statement creates a function?\n",
    "ans:\n",
    "    \n",
    "def function_name(): is the statement to create a function"
   ]
  },
  {
   "cell_type": "code",
   "execution_count": null,
   "id": "e1eaa1f5",
   "metadata": {},
   "outputs": [],
   "source": [
    "#4. What is the difference between a function and a function call?\n",
    "\n",
    "ans:\n",
    "    \n",
    "function:In function we write a code for reusability.\n",
    "function call:we use the code repeatedly by using function call"
   ]
  },
  {
   "cell_type": "code",
   "execution_count": null,
   "id": "6965ad8a",
   "metadata": {},
   "outputs": [],
   "source": [
    "#5. How many global scopes are there in a Python program? How many local scopes?\n",
    "\n",
    "ans:\n",
    "    \n",
    "There is one global scope and one local scope."
   ]
  },
  {
   "cell_type": "code",
   "execution_count": null,
   "id": "def835a0",
   "metadata": {},
   "outputs": [],
   "source": [
    "# 6. What happens to variables in a local scope when the function call returns?\n",
    "ans:\n",
    "    \n",
    "The updated value of variable will returns when the function calls"
   ]
  },
  {
   "cell_type": "code",
   "execution_count": null,
   "id": "bbe0ee2a",
   "metadata": {},
   "outputs": [],
   "source": [
    "# 7. What is the concept of a return value? Is it possible to have a return value in an expression?\n",
    "ans:\n",
    "    \n",
    "return value will return the value when loop completes and also breaks the loop .yes it is possible to have a return value in an expression"
   ]
  },
  {
   "cell_type": "code",
   "execution_count": null,
   "id": "f3216891",
   "metadata": {},
   "outputs": [],
   "source": [
    "# 8. If a function does not have a return statement, what is the return value of a call to that function?\n",
    "ans:\n",
    "    \n",
    "None type is the return value of a call to that funcion  if a function does not have a return statement"
   ]
  },
  {
   "cell_type": "code",
   "execution_count": null,
   "id": "4747cd35",
   "metadata": {},
   "outputs": [],
   "source": [
    "# 9. How do you make a function variable refer to the global variable?\n",
    "ans:\n",
    "    \n",
    "By using global key word make  a function variable refer to the global variable"
   ]
  },
  {
   "cell_type": "code",
   "execution_count": null,
   "id": "8724e935",
   "metadata": {},
   "outputs": [],
   "source": [
    "# 10. What is the data type of None?\n",
    "ans:\n",
    "\n",
    "None is a keyword and its datatype is NoneType"
   ]
  },
  {
   "cell_type": "code",
   "execution_count": null,
   "id": "20a9661d",
   "metadata": {},
   "outputs": [],
   "source": [
    "# 11. What does the sentence import areallyourpetsnamederic do?\n",
    "ans:\n",
    "    \n",
    "import areallyourpetsnamederic says that importing that module to our code\n"
   ]
  },
  {
   "cell_type": "code",
   "execution_count": null,
   "id": "10ed9a23",
   "metadata": {},
   "outputs": [],
   "source": [
    "# 12. If you had a bacon() feature in a spam module, what would you call it after importing spam?\n",
    "ans:\n",
    "    \n",
    "we call it as spam.bacon()"
   ]
  },
  {
   "cell_type": "code",
   "execution_count": null,
   "id": "facc4ca1",
   "metadata": {},
   "outputs": [],
   "source": [
    "# 13. What can you do to save a programme from crashing if it encounters an error?\n",
    "ans:\n",
    "    \n",
    "we have to  use Exception Handling (try and except and else and finally)\n"
   ]
  },
  {
   "cell_type": "code",
   "execution_count": null,
   "id": "560744f0",
   "metadata": {},
   "outputs": [],
   "source": [
    "# 14. What is the purpose of the try clause? What is the purpose of the except clause?\n",
    "ans:\n",
    "    \n",
    "try clause is for test the block of code for errors and\n",
    "except clause for handles the errors i.e.,if try block is errors excepts except"
   ]
  }
 ],
 "metadata": {
  "kernelspec": {
   "display_name": "Python 3 (ipykernel)",
   "language": "python",
   "name": "python3"
  },
  "language_info": {
   "codemirror_mode": {
    "name": "ipython",
    "version": 3
   },
   "file_extension": ".py",
   "mimetype": "text/x-python",
   "name": "python",
   "nbconvert_exporter": "python",
   "pygments_lexer": "ipython3",
   "version": "3.9.12"
  }
 },
 "nbformat": 4,
 "nbformat_minor": 5
}
