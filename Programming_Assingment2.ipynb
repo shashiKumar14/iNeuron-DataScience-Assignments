{
 "cells": [
  {
   "cell_type": "code",
   "execution_count": null,
   "id": "0dd8da48",
   "metadata": {},
   "outputs": [],
   "source": [
    "'''1. Write a Python program to convert kilometers to miles?'''"
   ]
  },
  {
   "cell_type": "code",
   "execution_count": 3,
   "id": "c4cfcde6",
   "metadata": {},
   "outputs": [
    {
     "name": "stdout",
     "output_type": "stream",
     "text": [
      "enter kilomer value =12\n",
      "miles= 19.31208\n"
     ]
    }
   ],
   "source": [
    "kilometer=int(input(\"enter kilomer value =\"))\n",
    "miles=kilometer*1.60934\n",
    "print(\"miles=\",miles)"
   ]
  },
  {
   "cell_type": "code",
   "execution_count": null,
   "id": "6f0eaaa8",
   "metadata": {},
   "outputs": [],
   "source": [
    "'''2. Write a Python program to convert Celsius to Fahrenheit?'''"
   ]
  },
  {
   "cell_type": "code",
   "execution_count": 4,
   "id": "8631d285",
   "metadata": {},
   "outputs": [
    {
     "name": "stdout",
     "output_type": "stream",
     "text": [
      "enter the value of celcius value =12\n",
      "Fareignheit value is = 53.6\n"
     ]
    }
   ],
   "source": [
    "C=int(input(\"enter the value of celcius value =\"))\n",
    "#C=(F-32)*(5/9)\n",
    "F=(9/5*C)+32\n",
    "print(\"Fareignheit value is =\",F)"
   ]
  },
  {
   "cell_type": "code",
   "execution_count": null,
   "id": "ada06e9f",
   "metadata": {},
   "outputs": [],
   "source": [
    "'''3. Write a Python program to display calendar?'''"
   ]
  },
  {
   "cell_type": "code",
   "execution_count": 9,
   "id": "12b57c7c",
   "metadata": {},
   "outputs": [
    {
     "name": "stdout",
     "output_type": "stream",
     "text": [
      "      May 2022\n",
      "Mo Tu We Th Fr Sa Su\n",
      "                   1\n",
      " 2  3  4  5  6  7  8\n",
      " 9 10 11 12 13 14 15\n",
      "16 17 18 19 20 21 22\n",
      "23 24 25 26 27 28 29\n",
      "30 31\n",
      "\n"
     ]
    }
   ],
   "source": [
    "import calendar\n",
    "year=2022\n",
    "month=5\n",
    "print(calendar.month(year,month))"
   ]
  },
  {
   "cell_type": "code",
   "execution_count": null,
   "id": "1bf89e81",
   "metadata": {},
   "outputs": [],
   "source": [
    "'''4. Write a Python program to solve quadratic equation?'''"
   ]
  },
  {
   "cell_type": "code",
   "execution_count": 12,
   "id": "b5cb2bce",
   "metadata": {},
   "outputs": [
    {
     "name": "stdout",
     "output_type": "stream",
     "text": [
      "enter a value1\n",
      "enter b value2\n",
      "enter c value3\n",
      "Quad_eua_plus= (-2+1.4142135623730951j)\n",
      "Quad_eua_minus= (-2-1.4142135623730951j)\n"
     ]
    }
   ],
   "source": [
    "#ax**2+bx+c=0\n",
    "#-b+(b**2-4*a*c)**0.5/2*a\n",
    "#-b-(b**2-4*a*c)**0.5/2*a\n",
    "import cmath\n",
    "a=int(input(\"enter a value\"))\n",
    "b=int(input(\"enter b value\"))\n",
    "c=int(input(\"enter c value\"))\n",
    "d=(b**2) -(4*a*c)\n",
    "Quad_eua_plus=-b+cmath.sqrt(d)/2*a\n",
    "Quad_eua_minus=-b-cmath.sqrt(d)/2*a\n",
    "print(\"Quad_eua_plus=\",Quad_eua_plus)\n",
    "print(\"Quad_eua_minus=\",Quad_eua_minus)"
   ]
  },
  {
   "cell_type": "code",
   "execution_count": null,
   "id": "cfee8748",
   "metadata": {},
   "outputs": [],
   "source": [
    "'''5. Write a Python program to swap two variables without temp variable?'''"
   ]
  },
  {
   "cell_type": "code",
   "execution_count": 1,
   "id": "ac0881a7",
   "metadata": {},
   "outputs": [
    {
     "name": "stdout",
     "output_type": "stream",
     "text": [
      "a= 20 b= 10\n",
      "b= 10 a= 20\n"
     ]
    }
   ],
   "source": [
    "a=10\n",
    "b=20\n",
    "a,b=b,a\n",
    "print(\"a=\",a,\"b=\",b)\n",
    "print(\"b=\",b,\"a=\",a)\n"
   ]
  },
  {
   "cell_type": "code",
   "execution_count": null,
   "id": "2fc4b717",
   "metadata": {},
   "outputs": [],
   "source": []
  }
 ],
 "metadata": {
  "kernelspec": {
   "display_name": "Python 3 (ipykernel)",
   "language": "python",
   "name": "python3"
  },
  "language_info": {
   "codemirror_mode": {
    "name": "ipython",
    "version": 3
   },
   "file_extension": ".py",
   "mimetype": "text/x-python",
   "name": "python",
   "nbconvert_exporter": "python",
   "pygments_lexer": "ipython3",
   "version": "3.9.12"
  }
 },
 "nbformat": 4,
 "nbformat_minor": 5
}
