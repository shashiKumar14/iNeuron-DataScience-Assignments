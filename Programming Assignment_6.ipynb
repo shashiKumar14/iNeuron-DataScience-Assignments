{
 "cells": [
  {
   "cell_type": "code",
   "execution_count": null,
   "id": "9e39a2bf",
   "metadata": {},
   "outputs": [],
   "source": [
    "'''1. Write a Python Program to Display Fibonacci Sequence Using Recursion?'''"
   ]
  },
  {
   "cell_type": "code",
   "execution_count": 1,
   "id": "cc8dfae8",
   "metadata": {},
   "outputs": [
    {
     "name": "stdout",
     "output_type": "stream",
     "text": [
      "enter a number 10\n",
      "0\n",
      "1\n",
      "1\n",
      "2\n",
      "3\n",
      "5\n",
      "8\n",
      "13\n",
      "21\n",
      "34\n"
     ]
    }
   ],
   "source": [
    "def fibonacci(i):\n",
    "    if i<=1:\n",
    "        return i\n",
    "    else:\n",
    "        return(fibonacci(i-1)+fibonacci(i-2))\n",
    "    \n",
    "n=int(input(\"enter a number \"))\n",
    "for i in range(n):\n",
    "    print(fibonacci(i))"
   ]
  },
  {
   "cell_type": "code",
   "execution_count": null,
   "id": "7c6113c8",
   "metadata": {},
   "outputs": [],
   "source": [
    "'''2. Write a Python Program to Find Factorial of Number Using Recursion?'''"
   ]
  },
  {
   "cell_type": "code",
   "execution_count": 3,
   "id": "eed87b58",
   "metadata": {},
   "outputs": [
    {
     "name": "stdout",
     "output_type": "stream",
     "text": [
      "enter a number 5\n",
      "The factorial of 5 is 120\n"
     ]
    }
   ],
   "source": [
    "def factorial(n):\n",
    "    if n==1:\n",
    "        return n\n",
    "    else:\n",
    "        return (n*factorial(n-1))\n",
    "    \n",
    "n=int(input(\"enter a number \"))\n",
    "if n<0:\n",
    "    print(\"Please enter Positive number\")\n",
    "elif n==0:\n",
    "    print(\"The factorial of 0 is 1\")\n",
    "else:\n",
    "    print(f\"The factorial of {n} is {factorial(n)}\")\n",
    "    "
   ]
  },
  {
   "cell_type": "code",
   "execution_count": null,
   "id": "1a7e2291",
   "metadata": {},
   "outputs": [],
   "source": [
    "'''3. Write a Python Program to calculate your Body Mass Index?'''"
   ]
  },
  {
   "cell_type": "code",
   "execution_count": 6,
   "id": "f547ce30",
   "metadata": {},
   "outputs": [
    {
     "name": "stdout",
     "output_type": "stream",
     "text": [
      "enter a value of height in meters1.54\n",
      "enter a value of weight in kgs75\n",
      "The BMI of a Person is 31.624219935908247\n"
     ]
    }
   ],
   "source": [
    "def BMI(height,weight):\n",
    "    bmi=weight/(height**2)\n",
    "    return bmi\n",
    "height=float(input(\"enter a value of height in meters\"))\n",
    "weight=int(input(\"enter a value of weight in kgs\"))\n",
    "print(f'The BMI of a Person is {BMI(height,weight)}')"
   ]
  },
  {
   "cell_type": "code",
   "execution_count": null,
   "id": "c9b1e518",
   "metadata": {},
   "outputs": [],
   "source": [
    "'''4. Write a Python Program to calculate the natural logarithm of any number?'''"
   ]
  },
  {
   "cell_type": "code",
   "execution_count": 7,
   "id": "e1a6741e",
   "metadata": {},
   "outputs": [
    {
     "name": "stdout",
     "output_type": "stream",
     "text": [
      "enter a number 23\n",
      "Natural logarithm of a number 23 is 3.1354942159291497\n"
     ]
    }
   ],
   "source": [
    "import math\n",
    "n=int(input(\"enter a number \"))\n",
    "print(f\"Natural logarithm of a number {n} is {math.log(n)}\")"
   ]
  },
  {
   "cell_type": "code",
   "execution_count": null,
   "id": "47eb1ac8",
   "metadata": {},
   "outputs": [],
   "source": [
    "'''5. Write a Python Program for cube sum of first n natural numbers?'''"
   ]
  },
  {
   "cell_type": "code",
   "execution_count": 9,
   "id": "a9de25ec",
   "metadata": {},
   "outputs": [
    {
     "name": "stdout",
     "output_type": "stream",
     "text": [
      "enter a number is 5\n",
      "cube sum of first n natural numbers is 225\n"
     ]
    }
   ],
   "source": [
    "sum=0\n",
    "n=int(input(\"enter a number is \"))\n",
    "for i in range(n+1):\n",
    "    sum+=i**3\n",
    "print(f\"cube sum of first n natural numbers is {sum}\")"
   ]
  },
  {
   "cell_type": "code",
   "execution_count": null,
   "id": "800930a3",
   "metadata": {},
   "outputs": [],
   "source": []
  }
 ],
 "metadata": {
  "kernelspec": {
   "display_name": "Python 3 (ipykernel)",
   "language": "python",
   "name": "python3"
  },
  "language_info": {
   "codemirror_mode": {
    "name": "ipython",
    "version": 3
   },
   "file_extension": ".py",
   "mimetype": "text/x-python",
   "name": "python",
   "nbconvert_exporter": "python",
   "pygments_lexer": "ipython3",
   "version": "3.9.12"
  }
 },
 "nbformat": 4,
 "nbformat_minor": 5
}
