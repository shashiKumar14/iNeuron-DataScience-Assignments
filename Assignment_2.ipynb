{
 "cells": [
  {
   "cell_type": "markdown",
   "id": "0012d9dc",
   "metadata": {},
   "source": [
    "##### 1.What are the two values of the Boolean data type? How do you write them?"
   ]
  },
  {
   "cell_type": "raw",
   "id": "49b0fba1",
   "metadata": {},
   "source": [
    "ans:\n",
    "\n",
    "Two values of the Boolean data type is 1 and 0 .we write them as True or False"
   ]
  },
  {
   "cell_type": "markdown",
   "id": "c8f467b7",
   "metadata": {},
   "source": [
    "##### 2. What are the three different types of Boolean operators?\n"
   ]
  },
  {
   "cell_type": "raw",
   "id": "7daf7120",
   "metadata": {},
   "source": [
    "ans:\n",
    "\n",
    "AND ,OR,NOT are the three different types of Boolean operators"
   ]
  },
  {
   "cell_type": "markdown",
   "id": "15201772",
   "metadata": {},
   "source": [
    "##### 3. Make a list of each Boolean operator&#39;s truth tables (i.e. every possible combination of Booleanvalues for the operator and what it evaluate ).\n"
   ]
  },
  {
   "cell_type": "raw",
   "id": "38e56bd9",
   "metadata": {},
   "source": [
    "ans:\n",
    "\n",
    "AND:\n",
    "\n",
    "True  True           True             1  1      1\n",
    "True  False          False            1  0      0\n",
    "False True           False            0  1      0\n",
    "False False          False            0  0      0\n",
    "\n",
    "OR:\n",
    "    \n",
    "True  True           True             1  1      1\n",
    "True  False          True             1  0      1\n",
    "False True           True             0  1      1\n",
    "False False          False            0  0      0\n",
    "\n",
    "NOT:\n",
    "    \n",
    "True  False                           1  0\n",
    "False True                            0  1\n",
    "       "
   ]
  },
  {
   "cell_type": "markdown",
   "id": "8d02f921",
   "metadata": {},
   "source": [
    "##### 4. What are the values of the following expressions?"
   ]
  },
  {
   "cell_type": "raw",
   "id": "c60013ba",
   "metadata": {},
   "source": [
    "(5 &gt; 4) and (3 == 5)\n",
    "not (5 &gt; 4)\n",
    "(5 &gt; 4) or (3 == 5)\n",
    "not ((5 &gt; 4) or (3 == 5))\n",
    "(True and True) and (True == False)\n",
    "(not False) or (not True)\n"
   ]
  },
  {
   "cell_type": "raw",
   "id": "1faea81f",
   "metadata": {},
   "source": [
    "(5 &gt; 4) and (3 == 5)  ===>invalid syntax"
   ]
  },
  {
   "cell_type": "raw",
   "id": "e3f7b608",
   "metadata": {},
   "source": [
    "not (5 &gt; 4) ===>invalid syntax"
   ]
  },
  {
   "cell_type": "raw",
   "id": "28baf1a4",
   "metadata": {},
   "source": [
    "(5 &gt; 4) or (3 == 5)  ===>invalid syntax"
   ]
  },
  {
   "cell_type": "raw",
   "id": "e145324a",
   "metadata": {},
   "source": [
    "not ((5 &gt; 4) or (3 == 5))  ===>invalid syntax"
   ]
  },
  {
   "cell_type": "raw",
   "id": "8ed4af3c",
   "metadata": {},
   "source": [
    "(True and True) and (True == False) ===>False"
   ]
  },
  {
   "cell_type": "raw",
   "id": "cbf9d38d",
   "metadata": {},
   "source": [
    "(not False) or (not True)  ===>True"
   ]
  },
  {
   "cell_type": "markdown",
   "id": "bdafb19e",
   "metadata": {},
   "source": [
    "##### 5. What are the six comparison operators?\n"
   ]
  },
  {
   "cell_type": "raw",
   "id": "c9302629",
   "metadata": {},
   "source": [
    "ans:\n",
    "\n",
    "i)>\n",
    "ii)<\n",
    "iii)>=\n",
    "iv)<=\n",
    "v)==\n",
    "vi)!="
   ]
  },
  {
   "cell_type": "markdown",
   "id": "67c12e8d",
   "metadata": {},
   "source": [
    "##### 6. How do you tell the difference between the equal to and assignment operators?Describe acondition and when you would use one.\n"
   ]
  },
  {
   "cell_type": "raw",
   "id": "fdd5efc4",
   "metadata": {},
   "source": [
    "ans: \n",
    "\n",
    "'=' ==> equal to operator used when the value should be hold in a variable\n",
    "'Assignment operator' ===>Assignment operator assign the value to already existed variable"
   ]
  },
  {
   "cell_type": "markdown",
   "id": "d745fec3",
   "metadata": {},
   "source": [
    "##### 7. Identify the three blocks in this code:\n"
   ]
  },
  {
   "cell_type": "raw",
   "id": "5101ff96",
   "metadata": {},
   "source": [
    "spam = 0\n",
    "if spam == 10:\n",
    "print(&#39;eggs&#39;)\n",
    "if spam &gt; 5:\n",
    "print(&#39;bacon&#39;)\n",
    "else:\n",
    "print(&#39;ham&#39;)\n",
    "print(&#39;spam&#39;)\n",
    "print(&#39;spam&#39;)\n"
   ]
  },
  {
   "cell_type": "raw",
   "id": "4b149e43",
   "metadata": {},
   "source": [
    "ans:  if,if,else"
   ]
  },
  {
   "cell_type": "markdown",
   "id": "f26c2082",
   "metadata": {},
   "source": [
    "##### 8. Write code that prints Hello if 1 is stored in spam, prints Howdy if 2 is stored in spam, and printsGreetings! if anything else is stored in spam.\n",
    "\n"
   ]
  },
  {
   "cell_type": "code",
   "execution_count": 27,
   "id": "93e9fe58",
   "metadata": {},
   "outputs": [
    {
     "name": "stdout",
     "output_type": "stream",
     "text": [
      "1\n",
      "Hello\n"
     ]
    }
   ],
   "source": [
    "spam=int(input())\n",
    "if spam==1:\n",
    "    print('Hello')\n",
    "elif spam==2:\n",
    "    print('Howdy')\n",
    "else:\n",
    "    print('Greetings!')"
   ]
  },
  {
   "cell_type": "markdown",
   "id": "947c1021",
   "metadata": {},
   "source": [
    "##### 9.If your programme is stuck in an endless loop, what keys you’ll press?\n"
   ]
  },
  {
   "cell_type": "raw",
   "id": "dc784e43",
   "metadata": {},
   "source": [
    "ans: break"
   ]
  },
  {
   "cell_type": "markdown",
   "id": "afac8bf4",
   "metadata": {},
   "source": [
    "##### 10. How can you tell the difference between break and continue?\n"
   ]
  },
  {
   "cell_type": "raw",
   "id": "2fac3926",
   "metadata": {},
   "source": [
    "ans:\n",
    "\n",
    "break:break will stops the iteration of the loop\n",
    "continue:continue will skip the False condition and continues the loop \n",
    "    "
   ]
  },
  {
   "cell_type": "markdown",
   "id": "d85ebe8c",
   "metadata": {},
   "source": [
    "##### 11. In a for loop, what is the difference between range(10), range(0, 10), and range(0, 10, 1)?\n"
   ]
  },
  {
   "cell_type": "raw",
   "id": "85f63224",
   "metadata": {},
   "source": [
    "ans:\n",
    "    \n",
    "range(10) ===> It gets the value from 0 to 9  if we doesn't give any starting value and stepsize also\n",
    "range(0,10)===> It gets the value from 0 to 9 here starting position is zero is given\n",
    "range(0,10,1) ===>It gets the value from 0 to 9 here starting position is zero and stepsize is 1 i.e.,1 is the differnce from value to value"
   ]
  },
  {
   "cell_type": "markdown",
   "id": "af43c819",
   "metadata": {},
   "source": [
    "##### 12. Write a short program that prints the numbers 1 to 10 using a for loop. Then write an equivalentprogram that prints the numbers 1 to 10 using a while loop.\n"
   ]
  },
  {
   "cell_type": "code",
   "execution_count": 14,
   "id": "4369cd0f",
   "metadata": {},
   "outputs": [
    {
     "name": "stdout",
     "output_type": "stream",
     "text": [
      "1\n",
      "2\n",
      "3\n",
      "4\n",
      "5\n",
      "6\n",
      "7\n",
      "8\n",
      "9\n",
      "10\n"
     ]
    }
   ],
   "source": [
    "for i in range(1,11):\n",
    "    print(i)"
   ]
  },
  {
   "cell_type": "code",
   "execution_count": 24,
   "id": "94f18eb3",
   "metadata": {},
   "outputs": [
    {
     "name": "stdout",
     "output_type": "stream",
     "text": [
      "1\n",
      "2\n",
      "3\n",
      "4\n",
      "5\n",
      "6\n",
      "7\n",
      "8\n",
      "9\n",
      "10\n"
     ]
    }
   ],
   "source": [
    "j=1\n",
    "while j<=10:\n",
    "    print(j)\n",
    "    j+=1\n",
    "    if j==11:\n",
    "        break\n",
    "    "
   ]
  },
  {
   "cell_type": "markdown",
   "id": "9a587e3e",
   "metadata": {},
   "source": [
    "##### 13. If you had a function named bacon() inside a module named spam, how would you call it afterimporting spam?"
   ]
  },
  {
   "cell_type": "raw",
   "id": "e101b4c6",
   "metadata": {},
   "source": [
    "ans:\n",
    "    \n",
    "spam.bacon()"
   ]
  },
  {
   "cell_type": "code",
   "execution_count": null,
   "id": "276878d2",
   "metadata": {},
   "outputs": [],
   "source": []
  }
 ],
 "metadata": {
  "kernelspec": {
   "display_name": "Python 3 (ipykernel)",
   "language": "python",
   "name": "python3"
  },
  "language_info": {
   "codemirror_mode": {
    "name": "ipython",
    "version": 3
   },
   "file_extension": ".py",
   "mimetype": "text/x-python",
   "name": "python",
   "nbconvert_exporter": "python",
   "pygments_lexer": "ipython3",
   "version": "3.9.12"
  }
 },
 "nbformat": 4,
 "nbformat_minor": 5
}
