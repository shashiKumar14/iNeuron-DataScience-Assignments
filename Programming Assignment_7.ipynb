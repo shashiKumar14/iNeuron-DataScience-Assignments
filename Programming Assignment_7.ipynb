{
 "cells": [
  {
   "cell_type": "code",
   "execution_count": null,
   "id": "3294ec8a",
   "metadata": {},
   "outputs": [],
   "source": [
    "1. Write a Python Program to find sum of array?\n",
    "2. Write a Python Program to find largest element in an array?\n",
    "3. Write a Python Program for array rotation?\n",
    "4. Write a Python Program to Split the array and add the first part to the end?\n",
    "5. Write a Python Program to check if given array is Monotonic?"
   ]
  },
  {
   "cell_type": "code",
   "execution_count": 2,
   "id": "f01f4d62",
   "metadata": {},
   "outputs": [],
   "source": [
    "import numpy as np"
   ]
  },
  {
   "cell_type": "code",
   "execution_count": 4,
   "id": "1c83f9a3",
   "metadata": {},
   "outputs": [
    {
     "data": {
      "text/plain": [
       "15"
      ]
     },
     "execution_count": 4,
     "metadata": {},
     "output_type": "execute_result"
    }
   ],
   "source": [
    "# 1. Write a Python Program to find sum of array?\n",
    "a=np.array([1,2,3,4,5])\n",
    "a=sum(a)\n",
    "a"
   ]
  },
  {
   "cell_type": "code",
   "execution_count": 6,
   "id": "4a448299",
   "metadata": {},
   "outputs": [
    {
     "data": {
      "text/plain": [
       "5"
      ]
     },
     "execution_count": 6,
     "metadata": {},
     "output_type": "execute_result"
    }
   ],
   "source": [
    "# 2. Write a Python Program to find largest element in an array?\n",
    "b=np.array([1,2,3,4,5])\n",
    "b=max(b)\n",
    "b"
   ]
  },
  {
   "cell_type": "code",
   "execution_count": 22,
   "id": "3e82d6bc",
   "metadata": {},
   "outputs": [
    {
     "data": {
      "text/plain": [
       "deque([6, 1, 2, 3, 4, 5])"
      ]
     },
     "execution_count": 22,
     "metadata": {},
     "output_type": "execute_result"
    }
   ],
   "source": [
    "# 3. Write a Python Program for array rotation?\n",
    "from collections import deque\n",
    "c=np.array([1,2,3,4,5,6])\n",
    "d=deque(c)\n",
    "d.rotate(1)\n",
    "d\n"
   ]
  },
  {
   "cell_type": "code",
   "execution_count": 30,
   "id": "0c78ef64",
   "metadata": {},
   "outputs": [
    {
     "data": {
      "text/plain": [
       "[4, 5, 1, 2, 3]"
      ]
     },
     "execution_count": 30,
     "metadata": {},
     "output_type": "execute_result"
    }
   ],
   "source": [
    "# 4. Write a Python Program to Split the array and add the first part to the end?\n",
    "e=np.array([1,2,3,4,5])\n",
    "f=np.array_split(e,2)\n",
    "first=[]\n",
    "for i in f:# g=f[1]+f[0]\n",
    "    first.append(list(i))\n",
    "first=first[1]+first[0]\n",
    "first\n"
   ]
  },
  {
   "cell_type": "code",
   "execution_count": 31,
   "id": "49a43132",
   "metadata": {},
   "outputs": [
    {
     "data": {
      "text/plain": [
       "True"
      ]
     },
     "execution_count": 31,
     "metadata": {},
     "output_type": "execute_result"
    }
   ],
   "source": [
    "g=np.array([1,2,3,4,5])\n",
    "all(g)"
   ]
  },
  {
   "cell_type": "code",
   "execution_count": 43,
   "id": "9c4e629b",
   "metadata": {},
   "outputs": [
    {
     "name": "stdout",
     "output_type": "stream",
     "text": [
      "[1, 2, 5, 4, 5]\n",
      "given array is Not Monotonic\n"
     ]
    }
   ],
   "source": [
    "# 5. Write a Python Program to check if given array is Monotonic?\n",
    "\n",
    "# g=np.\n",
    "def isMonotonic(g):\n",
    "    if all((g[i]<=g[i+1]) for i in range(len(g)-1))or all((g[i]>=g[i+1]) for i in range(len(g)-1)):\n",
    "        return \"given array is Monotonic\"\n",
    "    else:\n",
    "        return \"given array is Not Monotonic\"\n",
    "        \n",
    "array=np.array([1,2,5,4,5])\n",
    "array1=list(array)\n",
    "print(array1)\n",
    "print(isMonotonic(array1))"
   ]
  },
  {
   "cell_type": "code",
   "execution_count": null,
   "id": "5f979163",
   "metadata": {},
   "outputs": [],
   "source": []
  }
 ],
 "metadata": {
  "kernelspec": {
   "display_name": "Python 3 (ipykernel)",
   "language": "python",
   "name": "python3"
  },
  "language_info": {
   "codemirror_mode": {
    "name": "ipython",
    "version": 3
   },
   "file_extension": ".py",
   "mimetype": "text/x-python",
   "name": "python",
   "nbconvert_exporter": "python",
   "pygments_lexer": "ipython3",
   "version": "3.9.12"
  }
 },
 "nbformat": 4,
 "nbformat_minor": 5
}
