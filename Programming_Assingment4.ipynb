{
 "cells": [
  {
   "cell_type": "code",
   "execution_count": null,
   "id": "78e8a18c",
   "metadata": {},
   "outputs": [],
   "source": [
    "'''1. Write a Python Program to Find the Factorial of a Number?'''"
   ]
  },
  {
   "cell_type": "code",
   "execution_count": 4,
   "id": "07357aaa",
   "metadata": {},
   "outputs": [
    {
     "name": "stdout",
     "output_type": "stream",
     "text": [
      "Enter a number 5\n",
      "The factorial of 5 is 120\n"
     ]
    }
   ],
   "source": [
    "n= int(input(\"Enter a number \"))\n",
    "fact=1\n",
    "if n<0:\n",
    "    print(\"Please enter Positive number\")\n",
    "elif n==0:\n",
    "    print(\"Factorial of zero is 1\")\n",
    "else:\n",
    "    for i in range(1,n+1):\n",
    "        fact=fact*i\n",
    "    print(f\"The factorial of {n} is {fact}\")"
   ]
  },
  {
   "cell_type": "code",
   "execution_count": null,
   "id": "97fede9b",
   "metadata": {},
   "outputs": [],
   "source": [
    "'''2. Write a Python Program to Display the multiplication Table?'''"
   ]
  },
  {
   "cell_type": "code",
   "execution_count": 5,
   "id": "46fe2a61",
   "metadata": {},
   "outputs": [
    {
     "name": "stdout",
     "output_type": "stream",
     "text": [
      "enter a number5\n",
      "5*1=5\n",
      "5*2=10\n",
      "5*3=15\n",
      "5*4=20\n",
      "5*5=25\n",
      "5*6=30\n",
      "5*7=35\n",
      "5*8=40\n",
      "5*9=45\n",
      "5*10=50\n"
     ]
    }
   ],
   "source": [
    "n= int(input(\"enter a number\"))\n",
    "i=1\n",
    "while i<=10:\n",
    "    print(f\"{n}*{i}={n*i}\")\n",
    "    i+=1"
   ]
  },
  {
   "cell_type": "code",
   "execution_count": null,
   "id": "53b63329",
   "metadata": {},
   "outputs": [],
   "source": [
    "'''3. Write a Python Program to Print the Fibonacci sequence?'''"
   ]
  },
  {
   "cell_type": "code",
   "execution_count": 6,
   "id": "57b53be6",
   "metadata": {},
   "outputs": [
    {
     "name": "stdout",
     "output_type": "stream",
     "text": [
      "enter a number5\n",
      "0\n",
      "1\n",
      "1\n",
      "2\n",
      "3\n"
     ]
    }
   ],
   "source": [
    "n=int(input(\"enter a number\"))\n",
    "x=0\n",
    "y=1\n",
    "print(x)\n",
    "while y<n:\n",
    "    print(y)\n",
    "    x,y=y,x+y"
   ]
  },
  {
   "cell_type": "code",
   "execution_count": null,
   "id": "37b84e2c",
   "metadata": {},
   "outputs": [],
   "source": [
    "'''4. Write a Python Program to Check Armstrong Number?'''"
   ]
  },
  {
   "cell_type": "code",
   "execution_count": 15,
   "id": "7ca4d697",
   "metadata": {},
   "outputs": [
    {
     "name": "stdout",
     "output_type": "stream",
     "text": [
      "enter a number 153\n",
      "153 is an Armstrong number\n"
     ]
    }
   ],
   "source": [
    "n=int(input(\"enter a number \"))\n",
    "order=len(str(n))\n",
    "Sum=0\n",
    "temp=n\n",
    "while temp>0:\n",
    "    r=temp%10\n",
    "    Sum+=r**order\n",
    "    temp//=10\n",
    "if n==Sum:\n",
    "    print(f\"{n} is an Armstrong number\")\n",
    "else:\n",
    "    print(f\"{n} is not an Armstrong number\")"
   ]
  },
  {
   "cell_type": "code",
   "execution_count": null,
   "id": "7663fdf8",
   "metadata": {},
   "outputs": [],
   "source": [
    "'''5. Write a Python Program to Find Armstrong Number in an Interval?'''"
   ]
  },
  {
   "cell_type": "code",
   "execution_count": 16,
   "id": "c9350908",
   "metadata": {},
   "outputs": [
    {
     "name": "stdout",
     "output_type": "stream",
     "text": [
      "enter a lower linmit value1\n",
      "enter a upper linmit value200\n",
      "9\n",
      "35\n",
      "153\n"
     ]
    }
   ],
   "source": [
    "lower_limit=int(input(\"enter a lower linmit value\"))\n",
    "upper_limit=int(input(\"enter a upper linmit value\"))\n",
    "for i in range(lower_limit,upper_limit+1):\n",
    "    order=len(str(i))\n",
    "    Sum=0\n",
    "    temp=n\n",
    "    while temp>0:\n",
    "        r=temp%10\n",
    "        Sum+=r**order\n",
    "        temp//=10\n",
    "    if i==Sum:\n",
    "        print(i)\n",
    "    "
   ]
  },
  {
   "cell_type": "code",
   "execution_count": null,
   "id": "bf44988f",
   "metadata": {},
   "outputs": [],
   "source": [
    "'''6. Write a Python Program to Find the Sum of Natural Numbers?'''"
   ]
  },
  {
   "cell_type": "code",
   "execution_count": 1,
   "id": "0117325f",
   "metadata": {},
   "outputs": [
    {
     "name": "stdout",
     "output_type": "stream",
     "text": [
      "enter a number5\n",
      "sum=15.0\n"
     ]
    }
   ],
   "source": [
    "n=int(input(\"enter a number\"))\n",
    "Sum=(n*(n+1))/2\n",
    "print(f\"sum={Sum}\")"
   ]
  }
 ],
 "metadata": {
  "kernelspec": {
   "display_name": "Python 3 (ipykernel)",
   "language": "python",
   "name": "python3"
  },
  "language_info": {
   "codemirror_mode": {
    "name": "ipython",
    "version": 3
   },
   "file_extension": ".py",
   "mimetype": "text/x-python",
   "name": "python",
   "nbconvert_exporter": "python",
   "pygments_lexer": "ipython3",
   "version": "3.9.12"
  }
 },
 "nbformat": 4,
 "nbformat_minor": 5
}
