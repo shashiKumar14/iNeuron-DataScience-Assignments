{
 "cells": [
  {
   "cell_type": "code",
   "execution_count": null,
   "id": "e2e2e454",
   "metadata": {},
   "outputs": [],
   "source": [
    "'''1. Write a Python Program to Find LCM?'''"
   ]
  },
  {
   "cell_type": "code",
   "execution_count": 2,
   "id": "f7e008d5",
   "metadata": {},
   "outputs": [
    {
     "name": "stdout",
     "output_type": "stream",
     "text": [
      "enter a number  5\n",
      "enter a number  7\n",
      "lcm of 5 and 7 is 35\n"
     ]
    }
   ],
   "source": [
    "num1=int(input(\"enter a number  \"))\n",
    "num2=int(input(\"enter a number  \"))\n",
    "if num1>num2:\n",
    "    min_value=num1\n",
    "else:\n",
    "    min_value=num2\n",
    "while(True):\n",
    "    if (min_value%num1)==0 and (min_value%num2)==0 :\n",
    "        lcm=min_value\n",
    "        break\n",
    "    min_value+=1\n",
    "    \n",
    "print(f\"lcm of {num1} and {num2} is {min_value}\")    "
   ]
  },
  {
   "cell_type": "code",
   "execution_count": null,
   "id": "f64eee01",
   "metadata": {},
   "outputs": [],
   "source": [
    "'''2. Write a Python Program to Find HCF?'''"
   ]
  },
  {
   "cell_type": "code",
   "execution_count": 4,
   "id": "768f1472",
   "metadata": {},
   "outputs": [
    {
     "name": "stdout",
     "output_type": "stream",
     "text": [
      "enter a number  45\n",
      "enter a number  54\n",
      "hcf of 45 and 54 is 9\n"
     ]
    }
   ],
   "source": [
    "n1=int(input(\"enter a number  \"))\n",
    "n2=int(input(\"enter a number  \"))\n",
    "hcf=1\n",
    "for i in range(1,min(n1,n2)):\n",
    "    if n1%i==0 and n2%i==0:\n",
    "        hcf=i\n",
    "print(f\"hcf of {n1} and {n2} is {hcf}\")"
   ]
  },
  {
   "cell_type": "code",
   "execution_count": null,
   "id": "4c50dd12",
   "metadata": {},
   "outputs": [],
   "source": [
    "'''3. Write a Python Program to Convert Decimal to Binary, Octal and Hexadecimal?'''"
   ]
  },
  {
   "cell_type": "code",
   "execution_count": 5,
   "id": "225304e4",
   "metadata": {},
   "outputs": [
    {
     "name": "stdout",
     "output_type": "stream",
     "text": [
      "enter a number  234\n",
      "The 234 in binary 0b11101010\n",
      "The 234 in Octal 0o352\n",
      "The 234 in Hexadecimal 0xea\n"
     ]
    }
   ],
   "source": [
    "decimal_value=int(input(\"enter a number  \"))\n",
    "print(f\"The {decimal_value} in binary {bin(decimal_value)}\")\n",
    "print(f\"The {decimal_value} in Octal {oct(decimal_value)}\")\n",
    "print(f\"The {decimal_value} in Hexadecimal {hex(decimal_value)}\")"
   ]
  },
  {
   "cell_type": "code",
   "execution_count": null,
   "id": "5f75afe8",
   "metadata": {},
   "outputs": [],
   "source": [
    "'''4. Write a Python Program To Find ASCII value of a character?'''"
   ]
  },
  {
   "cell_type": "code",
   "execution_count": 8,
   "id": "2882f03c",
   "metadata": {},
   "outputs": [
    {
     "name": "stdout",
     "output_type": "stream",
     "text": [
      "enter a characters\n",
      "The ASCII value of s is 115\n"
     ]
    }
   ],
   "source": [
    "character=input(\"enter a character\")\n",
    "print(f\"The ASCII value of {character} is {ord(character)}\")"
   ]
  },
  {
   "cell_type": "code",
   "execution_count": null,
   "id": "63b9eb1e",
   "metadata": {},
   "outputs": [],
   "source": [
    "'''5. Write a Python Program to Make a Simple Calculator with 4 basic mathematical operations?'''"
   ]
  },
  {
   "cell_type": "code",
   "execution_count": 10,
   "id": "551c54dc",
   "metadata": {},
   "outputs": [
    {
     "name": "stdout",
     "output_type": "stream",
     "text": [
      "enter a number5\n",
      "enter a symbol+\n",
      "enter a number45\n",
      "The value of 5 + 45 is 50\n"
     ]
    }
   ],
   "source": [
    "def calculator(a,operator,b):\n",
    "    if operator=='+':\n",
    "        return a+b\n",
    "    elif operator=='-':\n",
    "        return a-b\n",
    "    elif operator=='*':\n",
    "        return a*b\n",
    "    elif operator=='%':\n",
    "        return a%b\n",
    "    \n",
    "a=int(input(\"enter a number\"))\n",
    "operator=input(\"enter a symbol\")\n",
    "b=int(input(\"enter a number\"))\n",
    "value=calculator(a,operator,b)\n",
    "print(f\"The value of {a} {operator} {b} is {value}\")"
   ]
  },
  {
   "cell_type": "code",
   "execution_count": null,
   "id": "94a69f33",
   "metadata": {},
   "outputs": [],
   "source": []
  }
 ],
 "metadata": {
  "kernelspec": {
   "display_name": "Python 3 (ipykernel)",
   "language": "python",
   "name": "python3"
  },
  "language_info": {
   "codemirror_mode": {
    "name": "ipython",
    "version": 3
   },
   "file_extension": ".py",
   "mimetype": "text/x-python",
   "name": "python",
   "nbconvert_exporter": "python",
   "pygments_lexer": "ipython3",
   "version": "3.9.12"
  }
 },
 "nbformat": 4,
 "nbformat_minor": 5
}
