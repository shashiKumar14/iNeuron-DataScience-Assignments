{
 "cells": [
  {
   "cell_type": "code",
   "execution_count": 2,
   "id": "b798d641",
   "metadata": {},
   "outputs": [
    {
     "name": "stdout",
     "output_type": "stream",
     "text": [
      "[[ 2  4  6  8]\n",
      " [ 4  6  8 10]]\n"
     ]
    }
   ],
   "source": [
    "# 1. Write a Python Program to Add Two Matrices?\n",
    "import numpy as np\n",
    "matrix1=np.array([[1,2,3,4],\n",
    "                  [2,3,4,5]])\n",
    "matrix2=np.array([[1,2,3,4],\n",
    "                  [2,3,4,5]])\n",
    "print(matrix1+matrix2)"
   ]
  },
  {
   "cell_type": "code",
   "execution_count": 4,
   "id": "f99168ab",
   "metadata": {},
   "outputs": [
    {
     "name": "stdout",
     "output_type": "stream",
     "text": [
      "[[ 1  4  9 16]\n",
      " [ 4  9 16 25]]\n"
     ]
    }
   ],
   "source": [
    "# 2. Write a Python Program to Multiply Two Matrices?\n",
    "import numpy as np\n",
    "matrix1=np.array([[1,2,3,4],\n",
    "                  [2,3,4,5]])\n",
    "matrix2=np.array([[1,2,3,4],\n",
    "                  [2,3,4,5]])\n",
    "print(matrix1*matrix2)"
   ]
  },
  {
   "cell_type": "code",
   "execution_count": 7,
   "id": "6a298a37",
   "metadata": {},
   "outputs": [
    {
     "name": "stdout",
     "output_type": "stream",
     "text": [
      "[[1 2]\n",
      " [2 3]\n",
      " [3 4]\n",
      " [4 5]]\n"
     ]
    }
   ],
   "source": [
    "# 3. Write a Python Program to Transpose a Matrix?\n",
    "import numpy as np\n",
    "matrix=np.array([[1,2,3,4],\n",
    "                  [2,3,4,5]])\n",
    "print(matrix.T)"
   ]
  },
  {
   "cell_type": "code",
   "execution_count": 45,
   "id": "f03a35be",
   "metadata": {},
   "outputs": [
    {
     "data": {
      "text/plain": [
       "'in ineuron is joined shashi'"
      ]
     },
     "execution_count": 45,
     "metadata": {},
     "output_type": "execute_result"
    }
   ],
   "source": [
    "# 4. Write a Python Program to Sort Words in Alphabetic Order?\n",
    "Order='shashi is joined in ineuron'\n",
    "l=Order.split()\n",
    "l.sort()\n",
    "\" \".join(l)\n"
   ]
  },
  {
   "cell_type": "code",
   "execution_count": 48,
   "id": "236aeb72",
   "metadata": {},
   "outputs": [
    {
     "name": "stdout",
     "output_type": "stream",
     "text": [
      "enter a stringshashi@@#$@#$ ad72\n",
      " shashi ad72\n"
     ]
    }
   ],
   "source": [
    "# 5. Write a Python Program to Remove Punctuation From a String?\n",
    "punctuations = '''!()-[]{};:'\"\\,<>./?@#$%^&*_~'''\n",
    "original_string=input(\"enter a string\")\n",
    "string=\" \"\n",
    "for i in original_string:\n",
    "    if i not in punctuations:\n",
    "        string+=i\n",
    "print(string)"
   ]
  },
  {
   "cell_type": "code",
   "execution_count": null,
   "id": "1b9333ad",
   "metadata": {},
   "outputs": [],
   "source": []
  }
 ],
 "metadata": {
  "kernelspec": {
   "display_name": "Python 3 (ipykernel)",
   "language": "python",
   "name": "python3"
  },
  "language_info": {
   "codemirror_mode": {
    "name": "ipython",
    "version": 3
   },
   "file_extension": ".py",
   "mimetype": "text/x-python",
   "name": "python",
   "nbconvert_exporter": "python",
   "pygments_lexer": "ipython3",
   "version": "3.9.12"
  }
 },
 "nbformat": 4,
 "nbformat_minor": 5
}
