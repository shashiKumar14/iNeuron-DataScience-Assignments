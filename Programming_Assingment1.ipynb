{
 "cells": [
  {
   "cell_type": "code",
   "execution_count": null,
   "id": "13f36cde",
   "metadata": {},
   "outputs": [],
   "source": [
    "'''1. Write a Python program to print 'Hello Python'?'''"
   ]
  },
  {
   "cell_type": "code",
   "execution_count": 1,
   "id": "e43ac97b",
   "metadata": {},
   "outputs": [
    {
     "name": "stdout",
     "output_type": "stream",
     "text": [
      "Hello Python\n"
     ]
    }
   ],
   "source": [
    "print(\"Hello Python\")"
   ]
  },
  {
   "cell_type": "code",
   "execution_count": null,
   "id": "21968ccc",
   "metadata": {},
   "outputs": [],
   "source": [
    "'''2. Write a Python program to do arithmetical operations addition and division.?'''"
   ]
  },
  {
   "cell_type": "code",
   "execution_count": 4,
   "id": "105a2d16",
   "metadata": {},
   "outputs": [
    {
     "name": "stdout",
     "output_type": "stream",
     "text": [
      "addition: 30\n",
      "division: 0.5\n"
     ]
    }
   ],
   "source": [
    "a=10\n",
    "b=20\n",
    "print(\"addition:\",a+b)\n",
    "print('division:',a/b)"
   ]
  },
  {
   "cell_type": "code",
   "execution_count": null,
   "id": "0e2b3bc4",
   "metadata": {},
   "outputs": [],
   "source": [
    "'''3. Write a Python program to find the area of a triangle?'''"
   ]
  },
  {
   "cell_type": "code",
   "execution_count": 5,
   "id": "5e138049",
   "metadata": {},
   "outputs": [
    {
     "name": "stdout",
     "output_type": "stream",
     "text": [
      "enter the value of base: 23\n",
      "enter the value of Height: 54\n",
      "Area_of_Triangle : 621.0\n"
     ]
    }
   ],
   "source": [
    "Base=int(input(\"enter the value of base: \"))\n",
    "Height=int(input(\"enter the value of Height: \"))\n",
    "Area_of_Triangle=1/2*Base*Height\n",
    "print(\"Area_of_Triangle :\",Area_of_Triangle)"
   ]
  },
  {
   "cell_type": "code",
   "execution_count": null,
   "id": "9d934aa0",
   "metadata": {},
   "outputs": [],
   "source": [
    "'''4. Write a Python program to swap two variables?'''"
   ]
  },
  {
   "cell_type": "code",
   "execution_count": 20,
   "id": "da2dd33b",
   "metadata": {},
   "outputs": [
    {
     "name": "stdout",
     "output_type": "stream",
     "text": [
      "20 10\n",
      "10 20\n"
     ]
    }
   ],
   "source": [
    "a=10\n",
    "b=20\n",
    "a,b =b,a\n",
    "print(a,b)\n",
    "print(b,a)"
   ]
  },
  {
   "cell_type": "code",
   "execution_count": null,
   "id": "caad0555",
   "metadata": {},
   "outputs": [],
   "source": [
    "'''5. Write a Python program to generate a random number?'''"
   ]
  },
  {
   "cell_type": "code",
   "execution_count": 24,
   "id": "36b31ed1",
   "metadata": {},
   "outputs": [
    {
     "name": "stdout",
     "output_type": "stream",
     "text": [
      "0.4825096517487516\n"
     ]
    }
   ],
   "source": [
    "import random\n",
    "print(random.random())"
   ]
  },
  {
   "cell_type": "code",
   "execution_count": null,
   "id": "b95097d3",
   "metadata": {},
   "outputs": [],
   "source": []
  }
 ],
 "metadata": {
  "kernelspec": {
   "display_name": "Python 3 (ipykernel)",
   "language": "python",
   "name": "python3"
  },
  "language_info": {
   "codemirror_mode": {
    "name": "ipython",
    "version": 3
   },
   "file_extension": ".py",
   "mimetype": "text/x-python",
   "name": "python",
   "nbconvert_exporter": "python",
   "pygments_lexer": "ipython3",
   "version": "3.9.12"
  }
 },
 "nbformat": 4,
 "nbformat_minor": 5
}
