{
 "cells": [
  {
   "cell_type": "markdown",
   "id": "2cb3eaa6",
   "metadata": {},
   "source": [
    "1. Write a Python program to print 'Hello Python'?"
   ]
  },
  {
   "cell_type": "code",
   "execution_count": 1,
   "id": "d6c70d6c",
   "metadata": {},
   "outputs": [
    {
     "name": "stdout",
     "output_type": "stream",
     "text": [
      "Hello Python\n"
     ]
    }
   ],
   "source": [
    "print(\"Hello Python\")"
   ]
  },
  {
   "cell_type": "markdown",
   "id": "61c6d866",
   "metadata": {},
   "source": [
    "2. Write a Python program to do arithmetical operations addition and division.?"
   ]
  },
  {
   "cell_type": "code",
   "execution_count": 4,
   "id": "90279f22",
   "metadata": {},
   "outputs": [
    {
     "name": "stdout",
     "output_type": "stream",
     "text": [
      "addition: 30\n",
      "division: 0.5\n"
     ]
    }
   ],
   "source": [
    "a=10\n",
    "b=20\n",
    "print(\"addition:\",a+b)\n",
    "print('division:',a/b)"
   ]
  },
  {
   "cell_type": "markdown",
   "id": "f3524495",
   "metadata": {},
   "source": [
    "3. Write a Python program to find the area of a triangle?"
   ]
  },
  {
   "cell_type": "code",
   "execution_count": 5,
   "id": "5dca2318",
   "metadata": {},
   "outputs": [
    {
     "name": "stdout",
     "output_type": "stream",
     "text": [
      "enter the value of base: 23\n",
      "enter the value of Height: 54\n",
      "Area_of_Triangle : 621.0\n"
     ]
    }
   ],
   "source": [
    "Base=int(input(\"enter the value of base: \"))\n",
    "Height=int(input(\"enter the value of Height: \"))\n",
    "Area_of_Triangle=1/2*Base*Height\n",
    "print(\"Area_of_Triangle :\",Area_of_Triangle)"
   ]
  },
  {
   "cell_type": "markdown",
   "id": "464f965f",
   "metadata": {},
   "source": [
    "4. Write a Python program to swap two variables?"
   ]
  },
  {
   "cell_type": "code",
   "execution_count": 20,
   "id": "8da0f983",
   "metadata": {},
   "outputs": [
    {
     "name": "stdout",
     "output_type": "stream",
     "text": [
      "20 10\n",
      "10 20\n"
     ]
    }
   ],
   "source": [
    "a=10\n",
    "b=20\n",
    "a,b =b,a\n",
    "print(a,b)\n",
    "print(b,a)"
   ]
  },
  {
   "cell_type": "markdown",
   "id": "88c0a47d",
   "metadata": {},
   "source": [
    "5. Write a Python program to generate a random number?"
   ]
  },
  {
   "cell_type": "code",
   "execution_count": 22,
   "id": "8f34b845",
   "metadata": {},
   "outputs": [
    {
     "name": "stdout",
     "output_type": "stream",
     "text": [
      "85\n"
     ]
    }
   ],
   "source": [
    "import random\n",
    "print(random.randint(1,100))"
   ]
  },
  {
   "cell_type": "code",
   "execution_count": null,
   "id": "19031d53",
   "metadata": {},
   "outputs": [],
   "source": []
  }
 ],
 "metadata": {
  "kernelspec": {
   "display_name": "Python 3 (ipykernel)",
   "language": "python",
   "name": "python3"
  },
  "language_info": {
   "codemirror_mode": {
    "name": "ipython",
    "version": 3
   },
   "file_extension": ".py",
   "mimetype": "text/x-python",
   "name": "python",
   "nbconvert_exporter": "python",
   "pygments_lexer": "ipython3",
   "version": "3.9.12"
  }
 },
 "nbformat": 4,
 "nbformat_minor": 5
}
