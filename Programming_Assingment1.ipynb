{
 "cells": [
  {
   "cell_type": "code",
   "execution_count": null,
   "id": "f54d29f9",
   "metadata": {},
   "outputs": [],
   "source": [
    "'''1. Write a Python program to print 'Hello Python'?'''"
   ]
  },
  {
   "cell_type": "code",
   "execution_count": 1,
   "id": "3725f48b",
   "metadata": {},
   "outputs": [
    {
     "name": "stdout",
     "output_type": "stream",
     "text": [
      "Hello Python\n"
     ]
    }
   ],
   "source": [
    "print(\"Hello Python\")"
   ]
  },
  {
   "cell_type": "code",
   "execution_count": null,
   "id": "82ce3bd1",
   "metadata": {},
   "outputs": [],
   "source": [
    "'''2. Write a Python program to do arithmetical operations addition and division.?'''"
   ]
  },
  {
   "cell_type": "code",
   "execution_count": 4,
   "id": "ada2e841",
   "metadata": {},
   "outputs": [
    {
     "name": "stdout",
     "output_type": "stream",
     "text": [
      "addition: 30\n",
      "division: 0.5\n"
     ]
    }
   ],
   "source": [
    "a=10\n",
    "b=20\n",
    "print(\"addition:\",a+b)\n",
    "print('division:',a/b)"
   ]
  },
  {
   "cell_type": "code",
   "execution_count": null,
   "id": "aa345b6d",
   "metadata": {},
   "outputs": [],
   "source": [
    "'''3. Write a Python program to find the area of a triangle?'''"
   ]
  },
  {
   "cell_type": "code",
   "execution_count": 5,
   "id": "6f7f7f33",
   "metadata": {},
   "outputs": [
    {
     "name": "stdout",
     "output_type": "stream",
     "text": [
      "enter the value of base: 23\n",
      "enter the value of Height: 54\n",
      "Area_of_Triangle : 621.0\n"
     ]
    }
   ],
   "source": [
    "Base=int(input(\"enter the value of base: \"))\n",
    "Height=int(input(\"enter the value of Height: \"))\n",
    "Area_of_Triangle=1/2*Base*Height\n",
    "print(\"Area_of_Triangle :\",Area_of_Triangle)"
   ]
  },
  {
   "cell_type": "code",
   "execution_count": null,
   "id": "4a7f208a",
   "metadata": {},
   "outputs": [],
   "source": [
    "'''4. Write a Python program to swap two variables?'''"
   ]
  },
  {
   "cell_type": "code",
   "execution_count": 20,
   "id": "deac0c13",
   "metadata": {},
   "outputs": [
    {
     "name": "stdout",
     "output_type": "stream",
     "text": [
      "20 10\n",
      "10 20\n"
     ]
    }
   ],
   "source": [
    "a=10\n",
    "b=20\n",
    "a,b =b,a\n",
    "print(a,b)\n",
    "print(b,a)"
   ]
  },
  {
   "cell_type": "code",
   "execution_count": null,
   "id": "73f02f8a",
   "metadata": {},
   "outputs": [],
   "source": [
    "'''5. Write a Python program to generate a random number?'''"
   ]
  },
  {
   "cell_type": "code",
   "execution_count": 22,
   "id": "8001a73e",
   "metadata": {},
   "outputs": [
    {
     "name": "stdout",
     "output_type": "stream",
     "text": [
      "85\n"
     ]
    }
   ],
   "source": [
    "import random\n",
    "print(random.randint(1,100))"
   ]
  }
 ],
 "metadata": {
  "kernelspec": {
   "display_name": "Python 3 (ipykernel)",
   "language": "python",
   "name": "python3"
  },
  "language_info": {
   "codemirror_mode": {
    "name": "ipython",
    "version": 3
   },
   "file_extension": ".py",
   "mimetype": "text/x-python",
   "name": "python",
   "nbconvert_exporter": "python",
   "pygments_lexer": "ipython3",
   "version": "3.9.12"
  }
 },
 "nbformat": 4,
 "nbformat_minor": 5
}
